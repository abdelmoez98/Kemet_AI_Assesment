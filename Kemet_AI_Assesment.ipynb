{
  "cells": [
    {
      "cell_type": "code",
      "execution_count": 3,
      "metadata": {
        "colab": {
          "base_uri": "https://localhost:8080/"
        },
        "id": "LnGhWKjN8pmi",
        "outputId": "36df4540-a788-47ce-c9db-6627cbef0a74"
      },
      "outputs": [
        {
          "name": "stdout",
          "output_type": "stream",
          "text": [
            "Accuracy: 0.9760692464358453\n",
            "              precision    recall  f1-score   support\n",
            "\n",
            "      Arabic       1.00      0.97      0.98        93\n",
            "      Danish       0.99      0.92      0.95        86\n",
            "       Dutch       1.00      0.98      0.99       111\n",
            "     English       0.89      1.00      0.94       266\n",
            "      French       0.98      0.98      0.98       178\n",
            "      German       0.99      0.96      0.97        80\n",
            "       Greek       1.00      0.97      0.99        73\n",
            "       Hindi       1.00      0.91      0.95        11\n",
            "     Italian       1.00      0.99      0.99       136\n",
            "     Kannada       1.00      0.95      0.97        75\n",
            "   Malayalam       1.00      0.97      0.99       116\n",
            "  Portugeese       0.99      0.97      0.98       138\n",
            "     Russian       0.99      0.98      0.99       141\n",
            "     Spanish       0.98      0.99      0.98       152\n",
            "    Sweedish       0.98      0.98      0.98       120\n",
            "       Tamil       1.00      0.97      0.99        77\n",
            "     Turkish       1.00      0.97      0.99       111\n",
            "\n",
            "    accuracy                           0.98      1964\n",
            "   macro avg       0.99      0.97      0.98      1964\n",
            "weighted avg       0.98      0.98      0.98      1964\n",
            "\n"
          ]
        }
      ],
      "source": [
        "import pickle\n",
        "import pandas as pd\n",
        "from sklearn.naive_bayes import MultinomialNB\n",
        "from sklearn.model_selection import train_test_split\n",
        "from sklearn.feature_extraction.text import CountVectorizer\n",
        "from sklearn.metrics import accuracy_score, classification_report\n",
        "\n",
        "# Load the dataset\n",
        "data = pd.read_csv('Language_det_train.csv')\n",
        "X = data['Text']\n",
        "y = data['Language']\n",
        "\n",
        "# Split the data\n",
        "X_train, X_test, y_train, y_test = train_test_split(X, y, test_size=0.2, random_state=42)\n",
        "\n",
        "# Vectorize the text\n",
        "vectorizer = CountVectorizer()\n",
        "X_train_vec = vectorizer.fit_transform(X_train)\n",
        "X_test_vec = vectorizer.transform(X_test)\n",
        "\n",
        "# Train the model\n",
        "det_model = MultinomialNB()\n",
        "det_model.fit(X_train_vec, y_train)\n",
        "\n",
        "# Predict and evaluate\n",
        "y_pred = det_model.predict(X_test_vec)\n",
        "print(f'Accuracy: {accuracy_score(y_test, y_pred)}')\n",
        "print(classification_report(y_test, y_pred))"
      ]
    },
    {
      "cell_type": "code",
      "execution_count": 4,
      "metadata": {},
      "outputs": [
        {
          "name": "stdout",
          "output_type": "stream",
          "text": [
            "Language Detector Model Saved\n",
            "Vectorizer Saved\n"
          ]
        }
      ],
      "source": [
        "with open('lang_det.pickle','wb') as f:\n",
        "    pickle.dump(det_model,f)\n",
        "print(\"Language Detector Model Saved\")\n",
        "with open('vectorizer.pickle','wb') as f:\n",
        "    pickle.dump(vectorizer,f)\n",
        "print(\"Vectorizer Saved\")"
      ]
    },
    {
      "cell_type": "code",
      "execution_count": 2,
      "metadata": {
        "id": "x_SPaa-6oKK0"
      },
      "outputs": [],
      "source": [
        "# Load model directly\n",
        "import evaluate\n",
        "import pandas as pd\n",
        "from transformers import AutoTokenizer, AutoModelForSeq2SeqLM\n",
        "\n",
        "tokenizer = AutoTokenizer.from_pretrained(\"facebook/nllb-200-distilled-600M\")\n",
        "model = AutoModelForSeq2SeqLM.from_pretrained(\"facebook/nllb-200-distilled-600M\")"
      ]
    },
    {
      "cell_type": "code",
      "execution_count": 4,
      "metadata": {
        "id": "S8ApvfhivNGz"
      },
      "outputs": [],
      "source": [
        "def translate_to_arabic(text):\n",
        "  encoded = tokenizer(text, return_tensors=\"pt\")\n",
        "  generated_tokens = model.generate(\n",
        "      **encoded,forced_bos_token_id=tokenizer.lang_code_to_id[\"arb_Arab\"]\n",
        "  )\n",
        "  return tokenizer.batch_decode(generated_tokens, skip_special_tokens=True)"
      ]
    },
    {
      "cell_type": "code",
      "execution_count": 5,
      "metadata": {
        "id": "zK48VUJnvoyJ"
      },
      "outputs": [],
      "source": [
        "def translate_to_english(text):\n",
        "  encoded = tokenizer(text, return_tensors=\"pt\")\n",
        "  generated_tokens = model.generate(\n",
        "      **encoded,forced_bos_token_id=tokenizer.lang_code_to_id[\"eng_Latn\"]\n",
        "  )\n",
        "  return tokenizer.batch_decode(generated_tokens, skip_special_tokens=True)"
      ]
    },
    {
      "cell_type": "code",
      "execution_count": 80,
      "metadata": {
        "colab": {
          "base_uri": "https://localhost:8080/"
        },
        "id": "CFzuPIb2ulQI",
        "outputId": "19b3c229-5c74-48d5-d1fc-82bacf89fc7d"
      },
      "outputs": [
        {
          "name": "stderr",
          "output_type": "stream",
          "text": [
            "[nltk_data] Downloading package wordnet to /root/nltk_data...\n",
            "[nltk_data]   Package wordnet is already up-to-date!\n",
            "[nltk_data] Downloading package punkt to /root/nltk_data...\n",
            "[nltk_data]   Package punkt is already up-to-date!\n",
            "[nltk_data] Downloading package omw-1.4 to /root/nltk_data...\n",
            "[nltk_data]   Package omw-1.4 is already up-to-date!\n"
          ]
        }
      ],
      "source": [
        "meteor = evaluate.load('meteor')"
      ]
    },
    {
      "cell_type": "code",
      "execution_count": 81,
      "metadata": {
        "id": "cesQ_XFH0LnK"
      },
      "outputs": [],
      "source": [
        "bleu = evaluate.load('bleu')"
      ]
    },
    {
      "cell_type": "code",
      "execution_count": 84,
      "metadata": {
        "id": "x4midXAE0M7P"
      },
      "outputs": [],
      "source": [
        "wer = evaluate.load('wer')"
      ]
    },
    {
      "cell_type": "code",
      "execution_count": 6,
      "metadata": {
        "id": "pSLKzjm9vvxp"
      },
      "outputs": [
        {
          "name": "stderr",
          "output_type": "stream",
          "text": [
            "the `lang_code_to_id` attribute is deprecated. The logic is natively handled in the `tokenizer.adder_tokens_decoder` this attribute will be removed in `transformers` v4.38\n"
          ]
        }
      ],
      "source": [
        "data = pd.read_csv('translation_train.csv')\n",
        "sample = data.sample(2)\n",
        "predicted_english = list(map(translate_to_english,sample['Arabic']))\n",
        "predicted_arabic = list(map(translate_to_arabic,sample['English']))"
      ]
    },
    {
      "cell_type": "code",
      "execution_count": 9,
      "metadata": {},
      "outputs": [
        {
          "data": {
            "text/html": [
              "<div>\n",
              "<style scoped>\n",
              "    .dataframe tbody tr th:only-of-type {\n",
              "        vertical-align: middle;\n",
              "    }\n",
              "\n",
              "    .dataframe tbody tr th {\n",
              "        vertical-align: top;\n",
              "    }\n",
              "\n",
              "    .dataframe thead th {\n",
              "        text-align: right;\n",
              "    }\n",
              "</style>\n",
              "<table border=\"1\" class=\"dataframe\">\n",
              "  <thead>\n",
              "    <tr style=\"text-align: right;\">\n",
              "      <th></th>\n",
              "      <th>English</th>\n",
              "      <th>Arabic</th>\n",
              "    </tr>\n",
              "  </thead>\n",
              "  <tbody>\n",
              "    <tr>\n",
              "      <th>22915</th>\n",
              "      <td>I'm not surprised.</td>\n",
              "      <td>أنا غير متفاجئ.</td>\n",
              "    </tr>\n",
              "    <tr>\n",
              "      <th>22350</th>\n",
              "      <td>I'm counting on you guys.</td>\n",
              "      <td>أعتمد عليكم يا رفاق.</td>\n",
              "    </tr>\n",
              "  </tbody>\n",
              "</table>\n",
              "</div>"
            ],
            "text/plain": [
              "                         English                Arabic\n",
              "22915         I'm not surprised.       أنا غير متفاجئ.\n",
              "22350  I'm counting on you guys.  أعتمد عليكم يا رفاق."
            ]
          },
          "execution_count": 9,
          "metadata": {},
          "output_type": "execute_result"
        }
      ],
      "source": [
        "sample"
      ]
    },
    {
      "cell_type": "code",
      "execution_count": 10,
      "metadata": {},
      "outputs": [
        {
          "data": {
            "text/plain": [
              "[[\"I'm not surprised.\"], ['I trust you guys.']]"
            ]
          },
          "execution_count": 10,
          "metadata": {},
          "output_type": "execute_result"
        }
      ],
      "source": [
        "predicted_english"
      ]
    },
    {
      "cell_type": "code",
      "execution_count": 11,
      "metadata": {},
      "outputs": [
        {
          "data": {
            "text/plain": [
              "[['أنا لست متفاجئة'], ['أنا أعتمد عليكم يا رفاق']]"
            ]
          },
          "execution_count": 11,
          "metadata": {},
          "output_type": "execute_result"
        }
      ],
      "source": [
        "predicted_arabic"
      ]
    },
    {
      "cell_type": "code",
      "execution_count": 92,
      "metadata": {
        "colab": {
          "base_uri": "https://localhost:8080/"
        },
        "id": "X87OV57rwUGR",
        "outputId": "647bf640-bcc7-441b-db16-c54d6dd1169d"
      },
      "outputs": [
        {
          "name": "stdout",
          "output_type": "stream",
          "text": [
            "Bleu:  {'bleu': 0.11611843274277883, 'precisions': [0.36012861736334406, 0.14892412231030577, 0.07923169267707082, 0.042784163473818644], 'brevity_penalty': 1.0, 'length_ratio': 1.0366666666666666, 'translation_length': 1866, 'reference_length': 1800}\n",
            "WER:  0.922668240850059\n",
            "Meteor:  {'meteor': 0.4135564338106954}\n"
          ]
        }
      ],
      "source": [
        "print('Bleu: ',bleu.compute(references=sample['English'].tolist(),predictions=sum(predicted_english,[])))\n",
        "print('WER: ',wer.compute(references=sample['English'].tolist(),predictions=sum(predicted_english,[])))\n",
        "print('Meteor: ',meteor.compute(references=sample['English'].tolist(),predictions=sum(predicted_english,[])))"
      ]
    },
    {
      "cell_type": "code",
      "execution_count": 93,
      "metadata": {
        "colab": {
          "base_uri": "https://localhost:8080/"
        },
        "id": "p5iDjD7mwd0Y",
        "outputId": "9f74bbda-15d7-4d3c-ee73-1ec41796a3a2"
      },
      "outputs": [
        {
          "name": "stdout",
          "output_type": "stream",
          "text": [
            "Bleu:  {'bleu': 0.07759276719689627, 'precisions': [0.3304054054054054, 0.13043478260869565, 0.04996096799375488, 0.016835016835016835], 'brevity_penalty': 1.0, 'length_ratio': 1.0143934201507883, 'translation_length': 1480, 'reference_length': 1459}\n",
            "WER:  0.8598458304134547\n",
            "Meteor:  {'meteor': 0.2949758855169468}\n"
          ]
        }
      ],
      "source": [
        "print('Bleu: ',bleu.compute(references=sample['Arabic'].tolist(),predictions=sum(predicted_arabic,[])))\n",
        "print('WER: ', wer.compute(references=sample['Arabic'].tolist(),predictions=sum(predicted_arabic,[])))\n",
        "print('Meteor: ', meteor.compute(references=sample['Arabic'].tolist(),predictions=sum(predicted_arabic,[])))"
      ]
    }
  ],
  "metadata": {
    "colab": {
      "provenance": []
    },
    "kernelspec": {
      "display_name": "Python 3",
      "name": "python3"
    },
    "language_info": {
      "codemirror_mode": {
        "name": "ipython",
        "version": 3
      },
      "file_extension": ".py",
      "mimetype": "text/x-python",
      "name": "python",
      "nbconvert_exporter": "python",
      "pygments_lexer": "ipython3",
      "version": "3.10.14"
    }
  },
  "nbformat": 4,
  "nbformat_minor": 0
}
